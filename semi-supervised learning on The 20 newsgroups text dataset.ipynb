{
 "cells": [
  {
   "cell_type": "markdown",
   "id": "f067b05c",
   "metadata": {},
   "source": [
    "## Importing libraries"
   ]
  },
  {
   "cell_type": "code",
   "execution_count": 1,
   "id": "3e2c1bde",
   "metadata": {},
   "outputs": [],
   "source": [
    "import numpy as np\n",
    "\n",
    "from sklearn.datasets import fetch_20newsgroups\n",
    "from sklearn.preprocessing import FunctionTransformer\n",
    "from sklearn.semi_supervised import LabelSpreading , LabelPropagation\n",
    "from sklearn.model_selection import train_test_split\n",
    "from sklearn.pipeline import Pipeline\n",
    "from sklearn.metrics import f1_score,accuracy_score\n",
    "from simcse import SimCSE\n",
    "import re\n",
    "import string\n",
    "import nltk \n",
    "from sklearn.linear_model import SGDClassifier\n",
    "import pandas as pd\n",
    "import torch\n"
   ]
  },
  {
   "cell_type": "markdown",
   "id": "32006b88",
   "metadata": {},
   "source": [
    "## Importing dataset"
   ]
  },
  {
   "cell_type": "code",
   "execution_count": 2,
   "id": "4ca2b9b5",
   "metadata": {
    "scrolled": true
   },
   "outputs": [
    {
     "name": "stdout",
     "output_type": "stream",
     "text": [
      "2823 documents\n",
      "5 categories\n",
      "\n"
     ]
    }
   ],
   "source": [
    "# Loading dataset containing first five categories\n",
    "data = fetch_20newsgroups(\n",
    "    subset=\"train\",\n",
    "    categories=[\n",
    "        \"alt.atheism\",\n",
    "        \"comp.graphics\",\n",
    "        \"comp.os.ms-windows.misc\",\n",
    "        \"comp.sys.ibm.pc.hardware\",\n",
    "        \"comp.sys.mac.hardware\",\n",
    "    ],\n",
    ")\n",
    "print(\"%d documents\" % len(data.filenames))\n",
    "print(\"%d categories\" % len(data.target_names))\n",
    "print()"
   ]
  },
  {
   "cell_type": "code",
   "execution_count": 3,
   "id": "a7b00139",
   "metadata": {},
   "outputs": [],
   "source": [
    "X, y = data.data, data.target"
   ]
  },
  {
   "cell_type": "markdown",
   "id": "4ac9c048",
   "metadata": {},
   "source": [
    "## data cleaning"
   ]
  },
  {
   "cell_type": "code",
   "execution_count": 4,
   "id": "78ffa8e7",
   "metadata": {},
   "outputs": [],
   "source": [
    "# removing emails from the text\n",
    "def remove_emails(text):\n",
    "    text = re.sub('\\S*@\\S*\\s?', '', text)\n",
    "    return text\n",
    "\n",
    "# remove duplicate spaces and new lines\n",
    "def remove_spaces(text):\n",
    "    text = [\" \".join(re.split(\"\\s+\", word, flags=re.UNICODE)) for word in text]\n",
    "    return text\n",
    "\n",
    "# removing punctuations\n",
    "def remove_punct(text):\n",
    "    text  = \"\".join([char for char in text if char not in string.punctuation])\n",
    "    text = re.sub('[0-9]+', '', text)\n",
    "    return text\n",
    "\n",
    "\n",
    "    \n",
    "# tokenization\n",
    "def tokenization(text):\n",
    "    text = re.split('\\W+', text)\n",
    "    return text\n",
    "\n",
    "# removing stopwords\n",
    "def remove_stopwords(text):\n",
    "    stopword = nltk.corpus.stopwords.words('english')\n",
    "    text = [word for word in text if word not in stopword]\n",
    "    return text\n",
    "\n",
    "# texting Lemmitization\n",
    "def lemmatizer(text):\n",
    "    wn = nltk.WordNetLemmatizer()\n",
    "    text = [wn.lemmatize(word) for word in text]\n",
    "    return text"
   ]
  },
  {
   "cell_type": "code",
   "execution_count": 5,
   "id": "3af190ec",
   "metadata": {},
   "outputs": [],
   "source": [
    "def clean_text(text):\n",
    "    # convert the text to lowercase\n",
    "    text_lower = text.lower() \n",
    "    \n",
    "    # removing emails from the text\n",
    "    text_without_emails = remove_emails(text_lower)\n",
    "    \n",
    "    # remove duplicate spaces and new lines\n",
    "    text_without_spaces = remove_spaces(text_without_emails)\n",
    "    \n",
    "    # remove punctuation\n",
    "    text_without_punctuations = remove_punct(text_without_spaces)\n",
    "    \n",
    "    # text tokenization\n",
    "    tokens = tokenization(text_without_punctuations)   \n",
    "    \n",
    "    # removing stopwords \n",
    "    text_without_stopwords = remove_stopwords(tokens)\n",
    "    \n",
    "    # text Lemmitization\n",
    "    text_clean = lemmatizer(text_without_stopwords)\n",
    "    \n",
    "    return \" \".join(text_clean)"
   ]
  },
  {
   "cell_type": "code",
   "execution_count": 6,
   "id": "3dcc5bc3",
   "metadata": {},
   "outputs": [
    {
     "data": {
      "text/plain": [
       "'brian v hughes subject new apple ergomouse replyto organization dartmouth college hanover nh disclaimer personally really dont care think speak moderator recartscomicsinfo line schizophrenia mean never alone writes anyone know open apple ergomouse adb mouse ii mine life near cat true really pick fur tell look like apple welded shut must tried hard opend mine second take look bottom dial turn open much like older adb mouse used bit harder turn first quite simple open also anyone know installing fpus mac lc iii ive heard people saying fried motherboard lc iii well dont match pin correctly problem close look socket give idea proper orientation chip hades '"
      ]
     },
     "execution_count": 6,
     "metadata": {},
     "output_type": "execute_result"
    }
   ],
   "source": [
    "X = [clean_text(x) for x in X]\n",
    "X[0]"
   ]
  },
  {
   "cell_type": "markdown",
   "id": "6c938421",
   "metadata": {},
   "source": [
    "## Creating the embeddings model and transforming the data"
   ]
  },
  {
   "cell_type": "code",
   "execution_count": 7,
   "id": "1d3942db",
   "metadata": {
    "scrolled": true
   },
   "outputs": [
    {
     "name": "stderr",
     "output_type": "stream",
     "text": [
      "/home/abdelrhman/.local/lib/python3.8/site-packages/torch/cuda/__init__.py:80: UserWarning: CUDA initialization: CUDA unknown error - this may be due to an incorrectly set up environment, e.g. changing env variable CUDA_VISIBLE_DEVICES after program start. Setting the available devices to be zero. (Triggered internally at  ../c10/cuda/CUDAFunctions.cpp:112.)\n",
      "  return torch._C._cuda_getDeviceCount() > 0\n",
      "100%|███████████████████████████████████████████| 45/45 [04:54<00:00,  6.54s/it]\n"
     ]
    }
   ],
   "source": [
    "# loading SimCSE embeddings model\n",
    "embeddings_model = SimCSE(\"princeton-nlp/sup-simcse-bert-base-uncased\")\n",
    "\n",
    "def encoding_with_embeddings(model,data):\n",
    "    embeddings = model.encode(data)\n",
    "    return embeddings\n",
    "X = encoding_with_embeddings(embeddings_model,X)"
   ]
  },
  {
   "cell_type": "markdown",
   "id": "7dc41982",
   "metadata": {},
   "source": [
    "## Splitting the dataset"
   ]
  },
  {
   "cell_type": "markdown",
   "id": "9e5ec004",
   "metadata": {},
   "source": [
    "### Spliting into training data and test data"
   ]
  },
  {
   "cell_type": "code",
   "execution_count": 8,
   "id": "c2fdd9f1",
   "metadata": {},
   "outputs": [],
   "source": [
    "X_train, X_test, y_train, y_test = train_test_split(X, y)"
   ]
  },
  {
   "cell_type": "markdown",
   "id": "07069a27",
   "metadata": {},
   "source": [
    "### Creating unlabeled data"
   ]
  },
  {
   "cell_type": "code",
   "execution_count": 9,
   "id": "3c3633fc",
   "metadata": {},
   "outputs": [
    {
     "name": "stdout",
     "output_type": "stream",
     "text": [
      "LabelSpreading on 20.0% of the data (rest is unlabeled):\n"
     ]
    }
   ],
   "source": [
    "# select a mask of 20% of the train dataset\n",
    "mask_percentage = 0.2\n",
    "y_mask = np.random.rand(len(y_train)) < mask_percentage\n",
    "\n",
    "\n",
    "# set the non-masked subset to be unlabeled\n",
    "y_train[~y_mask] = -1\n",
    "\n",
    "print(f\"LabelSpreading on {mask_percentage*100}% of the data (rest is unlabeled):\")\n",
    "\n",
    "# X_20 and y_20 are the subset of the train dataset indicated by the mask\n",
    "X_20 = []\n",
    "y_20 = []\n",
    "for x, y in zip(X_test, y_train):\n",
    "    if y != -1:\n",
    "        X_20.append(x.tolist())\n",
    "        y_20.append(y.tolist())\n",
    "X_20 = torch.Tensor(X_20)\n",
    "y_20 = torch.Tensor(y_20)"
   ]
  },
  {
   "cell_type": "markdown",
   "id": "bf755680",
   "metadata": {},
   "source": [
    "## creating the machine learning models"
   ]
  },
  {
   "cell_type": "code",
   "execution_count": 10,
   "id": "21e6c9be",
   "metadata": {},
   "outputs": [],
   "source": [
    "# Label Propagation semi-supervised Model\n",
    "lp_model1 = LabelPropagation(gamma=10)\n",
    "lp_model2 = LabelPropagation(gamma=20)\n",
    "lp_model3 = LabelPropagation(gamma=30)\n",
    "lp_model4 = LabelPropagation(gamma=40)\n",
    "lp_model5 = LabelPropagation(gamma=50)\n",
    "\n",
    "\n",
    "\n",
    "# Label Spreading semi-supervised Model\n",
    "ls_model1 = LabelSpreading(gamma=10)\n",
    "ls_model2 = LabelSpreading(gamma=20)\n",
    "ls_model3 = LabelSpreading(gamma=30)\n",
    "ls_model4 = LabelSpreading(gamma=40)\n",
    "ls_model5 = LabelSpreading(gamma=50)\n",
    "\n",
    "# SGD supervised model\n",
    "sgd_model = SGDClassifier(alpha=1e-5, penalty=\"l2\", loss=\"log\")"
   ]
  },
  {
   "cell_type": "markdown",
   "id": "49a59e1b",
   "metadata": {},
   "source": [
    "## Evaluating the models"
   ]
  },
  {
   "cell_type": "code",
   "execution_count": 11,
   "id": "90851301",
   "metadata": {},
   "outputs": [],
   "source": [
    "# function for training and evaluating each model\n",
    "def eval_and_print_metrics(clf, X_train, y_train, X_test, y_test):\n",
    "    print(\"Number of training samples:\", len(X_train))\n",
    "    print(\"Unlabeled samples in training set:\", sum(1 for x in y_train if x == -1))\n",
    "    \n",
    "    # training the model\n",
    "    clf.fit(X_train, y_train)\n",
    "    \n",
    "    # making predictions\n",
    "    y_pred = clf.predict(X_test)\n",
    "    print(\n",
    "        \"accuracy score on test set: %0.3f\"\n",
    "        % accuracy_score(y_test, y_pred)\n",
    "    )\n",
    "    print(\"-\" * 10)\n",
    "    print()"
   ]
  },
  {
   "cell_type": "markdown",
   "id": "1aff1e00",
   "metadata": {},
   "source": [
    "### Label Propagation semi-supervised Model"
   ]
  },
  {
   "cell_type": "code",
   "execution_count": 12,
   "id": "41c5fbaf",
   "metadata": {
    "scrolled": true
   },
   "outputs": [
    {
     "name": "stdout",
     "output_type": "stream",
     "text": [
      "Number of training samples: 2117\n",
      "Unlabeled samples in training set: 1667\n",
      "accuracy score on test set: 0.649\n",
      "----------\n",
      "\n"
     ]
    }
   ],
   "source": [
    "eval_and_print_metrics(lp_model1, X_train, y_train, X_test, y_test)"
   ]
  },
  {
   "cell_type": "code",
   "execution_count": 13,
   "id": "d3cbcced",
   "metadata": {},
   "outputs": [
    {
     "name": "stdout",
     "output_type": "stream",
     "text": [
      "Number of training samples: 2117\n",
      "Unlabeled samples in training set: 1667\n",
      "accuracy score on test set: 0.707\n",
      "----------\n",
      "\n"
     ]
    },
    {
     "name": "stderr",
     "output_type": "stream",
     "text": [
      "/home/abdelrhman/anaconda3/lib/python3.8/site-packages/sklearn/semi_supervised/_label_propagation.py:290: ConvergenceWarning: max_iter=1000 was reached without convergence.\n",
      "  warnings.warn(\n"
     ]
    }
   ],
   "source": [
    "eval_and_print_metrics(lp_model2, X_train, y_train, X_test, y_test)"
   ]
  },
  {
   "cell_type": "code",
   "execution_count": 14,
   "id": "24317d67",
   "metadata": {},
   "outputs": [
    {
     "name": "stdout",
     "output_type": "stream",
     "text": [
      "Number of training samples: 2117\n",
      "Unlabeled samples in training set: 1667\n",
      "accuracy score on test set: 0.707\n",
      "----------\n",
      "\n"
     ]
    },
    {
     "name": "stderr",
     "output_type": "stream",
     "text": [
      "/home/abdelrhman/anaconda3/lib/python3.8/site-packages/sklearn/semi_supervised/_label_propagation.py:290: ConvergenceWarning: max_iter=1000 was reached without convergence.\n",
      "  warnings.warn(\n"
     ]
    }
   ],
   "source": [
    "eval_and_print_metrics(lp_model3, X_train, y_train, X_test, y_test)"
   ]
  },
  {
   "cell_type": "code",
   "execution_count": 15,
   "id": "29636435",
   "metadata": {},
   "outputs": [
    {
     "name": "stdout",
     "output_type": "stream",
     "text": [
      "Number of training samples: 2117\n",
      "Unlabeled samples in training set: 1667\n",
      "accuracy score on test set: 0.698\n",
      "----------\n",
      "\n"
     ]
    },
    {
     "name": "stderr",
     "output_type": "stream",
     "text": [
      "/home/abdelrhman/anaconda3/lib/python3.8/site-packages/sklearn/semi_supervised/_label_propagation.py:290: ConvergenceWarning: max_iter=1000 was reached without convergence.\n",
      "  warnings.warn(\n"
     ]
    }
   ],
   "source": [
    "eval_and_print_metrics(lp_model4, X_train, y_train, X_test, y_test)"
   ]
  },
  {
   "cell_type": "code",
   "execution_count": 16,
   "id": "b1ad9112",
   "metadata": {},
   "outputs": [
    {
     "name": "stdout",
     "output_type": "stream",
     "text": [
      "Number of training samples: 2117\n",
      "Unlabeled samples in training set: 1667\n",
      "accuracy score on test set: 0.693\n",
      "----------\n",
      "\n"
     ]
    },
    {
     "name": "stderr",
     "output_type": "stream",
     "text": [
      "/home/abdelrhman/anaconda3/lib/python3.8/site-packages/sklearn/semi_supervised/_label_propagation.py:290: ConvergenceWarning: max_iter=1000 was reached without convergence.\n",
      "  warnings.warn(\n"
     ]
    }
   ],
   "source": [
    "eval_and_print_metrics(lp_model5, X_train, y_train, X_test, y_test)"
   ]
  },
  {
   "cell_type": "markdown",
   "id": "ae90b936",
   "metadata": {},
   "source": [
    "### Label Spreading semi-supervised Model"
   ]
  },
  {
   "cell_type": "code",
   "execution_count": 17,
   "id": "46d4031f",
   "metadata": {
    "scrolled": true
   },
   "outputs": [
    {
     "name": "stdout",
     "output_type": "stream",
     "text": [
      "Number of training samples: 2117\n",
      "Unlabeled samples in training set: 1667\n",
      "accuracy score on test set: 0.680\n",
      "----------\n",
      "\n"
     ]
    }
   ],
   "source": [
    "eval_and_print_metrics(ls_model1, X_train, y_train, X_test, y_test)"
   ]
  },
  {
   "cell_type": "code",
   "execution_count": 18,
   "id": "a0fda382",
   "metadata": {},
   "outputs": [
    {
     "name": "stdout",
     "output_type": "stream",
     "text": [
      "Number of training samples: 2117\n",
      "Unlabeled samples in training set: 1667\n",
      "accuracy score on test set: 0.711\n",
      "----------\n",
      "\n"
     ]
    }
   ],
   "source": [
    "eval_and_print_metrics(ls_model2, X_train, y_train, X_test, y_test)"
   ]
  },
  {
   "cell_type": "code",
   "execution_count": 19,
   "id": "3b4fc94e",
   "metadata": {},
   "outputs": [
    {
     "name": "stdout",
     "output_type": "stream",
     "text": [
      "Number of training samples: 2117\n",
      "Unlabeled samples in training set: 1667\n",
      "accuracy score on test set: 0.684\n",
      "----------\n",
      "\n"
     ]
    }
   ],
   "source": [
    "eval_and_print_metrics(ls_model3, X_train, y_train, X_test, y_test)"
   ]
  },
  {
   "cell_type": "code",
   "execution_count": 20,
   "id": "d78a699a",
   "metadata": {},
   "outputs": [
    {
     "name": "stdout",
     "output_type": "stream",
     "text": [
      "Number of training samples: 2117\n",
      "Unlabeled samples in training set: 1667\n",
      "accuracy score on test set: 0.664\n",
      "----------\n",
      "\n"
     ]
    }
   ],
   "source": [
    "eval_and_print_metrics(ls_model4, X_train, y_train, X_test, y_test)"
   ]
  },
  {
   "cell_type": "code",
   "execution_count": 21,
   "id": "fa51a908",
   "metadata": {
    "scrolled": false
   },
   "outputs": [
    {
     "name": "stdout",
     "output_type": "stream",
     "text": [
      "Number of training samples: 2117\n",
      "Unlabeled samples in training set: 1667\n",
      "accuracy score on test set: 0.656\n",
      "----------\n",
      "\n"
     ]
    }
   ],
   "source": [
    "eval_and_print_metrics(ls_model5, X_train, y_train, X_test, y_test)"
   ]
  },
  {
   "cell_type": "markdown",
   "id": "e19a1887",
   "metadata": {},
   "source": [
    "### SGD supervised Model"
   ]
  },
  {
   "cell_type": "code",
   "execution_count": 22,
   "id": "c3ef5e79",
   "metadata": {},
   "outputs": [
    {
     "name": "stdout",
     "output_type": "stream",
     "text": [
      "Number of training samples: 137\n",
      "Unlabeled samples in training set: 0\n",
      "accuracy score on test set: 0.217\n",
      "----------\n",
      "\n"
     ]
    }
   ],
   "source": [
    "eval_and_print_metrics(sgd_model, X_20, y_20, X_test, y_test)"
   ]
  },
  {
   "cell_type": "code",
   "execution_count": null,
   "id": "f42c5164",
   "metadata": {},
   "outputs": [],
   "source": []
  },
  {
   "cell_type": "code",
   "execution_count": null,
   "id": "f4e3ee07",
   "metadata": {},
   "outputs": [],
   "source": []
  },
  {
   "cell_type": "code",
   "execution_count": null,
   "id": "f7d463a2",
   "metadata": {},
   "outputs": [],
   "source": []
  },
  {
   "cell_type": "code",
   "execution_count": null,
   "id": "13a5724a",
   "metadata": {},
   "outputs": [],
   "source": []
  },
  {
   "cell_type": "code",
   "execution_count": null,
   "id": "adde4c00",
   "metadata": {},
   "outputs": [],
   "source": []
  },
  {
   "cell_type": "code",
   "execution_count": null,
   "id": "82e9186c",
   "metadata": {},
   "outputs": [],
   "source": []
  },
  {
   "cell_type": "code",
   "execution_count": null,
   "id": "64bb19ca",
   "metadata": {},
   "outputs": [],
   "source": []
  },
  {
   "cell_type": "code",
   "execution_count": null,
   "id": "97d181aa",
   "metadata": {},
   "outputs": [],
   "source": []
  },
  {
   "cell_type": "code",
   "execution_count": null,
   "id": "eac44e4d",
   "metadata": {},
   "outputs": [],
   "source": []
  }
 ],
 "metadata": {
  "kernelspec": {
   "display_name": "Python 3 (ipykernel)",
   "language": "python",
   "name": "python3"
  },
  "language_info": {
   "codemirror_mode": {
    "name": "ipython",
    "version": 3
   },
   "file_extension": ".py",
   "mimetype": "text/x-python",
   "name": "python",
   "nbconvert_exporter": "python",
   "pygments_lexer": "ipython3",
   "version": "3.8.12"
  }
 },
 "nbformat": 4,
 "nbformat_minor": 5
}
